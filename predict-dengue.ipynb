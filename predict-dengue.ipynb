{
 "cells": [
  {
   "cell_type": "markdown",
   "metadata": {},
   "source": [
    "# Modeling Dengue\n",
    "This is an assignment for INFO 370 Core Method in Data Science (Autumn 2018) at University of Washington. The task for this project is to measure the **strength of association** between different environmental variables and the number of cases of Dengue. This Jupyter Notebook is a **polished report** of our analysis on Dengue (source of dataset: [link](https://www.drivendata.org/competitions/44/dengai-predicting-disease-spread)).\n",
    "\n",
    "- Team members: Rhea Chen, Matthew Wong.\n",
    "- Github repo: [link](https://github.com/info370a-au18/a3-rheaxychen)\n",
    "\n",
    "## Set Up"
   ]
  },
  {
   "cell_type": "code",
   "execution_count": 2,
   "metadata": {},
   "outputs": [],
   "source": [
    "%matplotlib inline\n",
    "from __future__ import print_function\n",
    "from __future__ import division\n",
    "import pandas as pd\n",
    "import numpy as np\n",
    "from matplotlib import pyplot as plt\n",
    "import seaborn as sns\n",
    "from sklearn.model_selection import train_test_split\n",
    "import statsmodels.api as sm\n",
    "import statsmodels.formula.api as smf\n"
   ]
  },
  {
   "cell_type": "markdown",
   "metadata": {},
   "source": [
    "## Problem Overview\n",
    "   Dengue fever is the leading cause of illness and death in the tropics and subtropics, regions which contain a little more than one-third of the world population. Mild cases of Dengue fever can cause high fever, rash and muscle, and joint pain, while more severe cases can lead to severe bleeding, a sudden drop in blood pressure and death. Dengue is transmitted to people by mosquitoes, and because of this relationship, the disease’s spread spikes yearly when rainfall is optimal for mosquitoe breeding. In fact, this relationship between the disease and the mosquito breeding period is so entwined that, every breeding season Dengue is classified as an epidemic within the tropics and sub-tropics. This relationship between the disease and mosquitoes also means that environmental factors that promote mosquito life will also work as indicators for the spread of Dengue. Limiting exposure to mosquitos in at-risk areas is the only known prevention method for the disease, as a vaccine has yet to be developed. This coupled with the fact that the disease is rapidly spreading, going from having cases in 9 countries in 1970 to over 100 countries by 2015, makes it a high priority for many world health organizations. In order to perform our predictions, we were given access to data from a variety of U.S. Federal Government agencies. \n",
    "   \n",
    "### Pertinent Variables \n",
    "Because dengue is carried by mosquitoes, it’s transmission dynamics are related to climate variables such as temperature and precipitation. To predict the number of dengue fever cases (the `total_cases` label for each `(city, year, weekofyear)` ) based on the provided datasets, it’s important to look at these following information ([source](https://www.drivendata.org/competitions/44/dengai-predicting-disease-spread/page/82/#features_list)):\n",
    "\n",
    "#### City and Date Indicators\n",
    "- There are data for _two cities_, San Juan (`sj`) and Iquitos (`iq`) in the `city` column. \n",
    "- The date indicator is provided on a `(year, weekofyear, week_start_date)` timescale, which is given in yyyy-mm-dd format.\n",
    "\n",
    "#### NOAA's GHCN daily climate data weather station measurements\n",
    "- `station_avg_temp_c` – _Average_ temperature\n",
    "- `station_precip_mm` – _Total_ precipitation\n",
    "\n",
    "#### PERSIANN satellite precipitation measurements (0.25x0.25 degree scale)\n",
    "- `precipitation_amt_mm` – _Total_ precipitation\n",
    "\n",
    "#### NOAA's NCEP Climate Forecast System Reanalysis measurements (0.5x0.5 degree scale)\n",
    "- `reanalysis_sat_precip_amt_mm` – _Total_ precipitation\n",
    "- `reanalysis_precip_amt_kg_per_m2` – _Total_ precipitation **(? same as ↾)**\n",
    "- `reanalysis_dew_point_temp_k` – _Mean_ dew point temperature\n",
    "- `reanalysis_air_temp_k` – _Mean_ air temperature\n",
    "- `reanalysis_avg_temp_k` – _Average_ air temperature **(? same as ↾)**\n",
    "- `reanalysis_relative_humidity_percent` – _Mean_ relative humidity\n",
    "- `reanalysis_specific_humidity_g_per_kg` – _Mean_ specific humidity\n",
    "   \n",
    "\n",
    "### Citations:\n",
    "   1. Centers for Disease Control and Prevention. (n.d.). Retrieved from [link](https://www.cdc.gov/).\n",
    "   2. Here's the ideal temp for mosquito-borne diseases. (2017, May 05). Retrieved from [link](https://www.futurity.org/climate-change-mosquito-diseases-1420452/).\n",
    "   3. \n",
    "   "
   ]
  },
  {
   "cell_type": "markdown",
   "metadata": {},
   "source": []
  },
  {
   "cell_type": "markdown",
   "metadata": {},
   "source": [
    "## Data Preperation\n",
    "As you can see, there are a few columns that represent the same data point (e.g. `precipitation`) from different sources. Are there any _substantive_ differences from the sources and why would they all be included?"
   ]
  },
  {
   "cell_type": "code",
   "execution_count": 6,
   "metadata": {},
   "outputs": [],
   "source": [
    "# load the provided data\n",
    "dengue_features = pd.read_csv('data/dengue_features_train.csv', index_col=[0,1,2])\n",
    "dengue_labels = pd.read_csv('data/dengue_labels_train.csv', index_col=[0,1,2])\n",
    "dengue_features_no_index = pd.read_csv('data/dengue_features_train.csv')"
   ]
  },
  {
   "cell_type": "code",
   "execution_count": 4,
   "metadata": {},
   "outputs": [
    {
     "data": {
      "text/plain": [
       "week_start_date                            0\n",
       "ndvi_ne                                  194\n",
       "ndvi_nw                                   52\n",
       "ndvi_se                                   22\n",
       "ndvi_sw                                   22\n",
       "precipitation_amt_mm                      13\n",
       "reanalysis_air_temp_k                     10\n",
       "reanalysis_avg_temp_k                     10\n",
       "reanalysis_dew_point_temp_k               10\n",
       "reanalysis_max_air_temp_k                 10\n",
       "reanalysis_min_air_temp_k                 10\n",
       "reanalysis_precip_amt_kg_per_m2           10\n",
       "reanalysis_relative_humidity_percent      10\n",
       "reanalysis_sat_precip_amt_mm              13\n",
       "reanalysis_specific_humidity_g_per_kg     10\n",
       "reanalysis_tdtr_k                         10\n",
       "station_avg_temp_c                        43\n",
       "station_diur_temp_rng_c                   43\n",
       "station_max_temp_c                        20\n",
       "station_min_temp_c                        14\n",
       "station_precip_mm                         22\n",
       "dtype: int64"
      ]
     },
     "execution_count": 4,
     "metadata": {},
     "output_type": "execute_result"
    }
   ],
   "source": [
    "# Check how many rows has empty values in `dengue_features` dataset\n",
    "dengue_features.isna().sum()"
   ]
  },
  {
   "cell_type": "code",
   "execution_count": 7,
   "metadata": {},
   "outputs": [
    {
     "name": "stderr",
     "output_type": "stream",
     "text": [
      "/Users/matthewwong/anaconda3/lib/python3.7/site-packages/ipykernel_launcher.py:23: SettingWithCopyWarning: \n",
      "A value is trying to be set on a copy of a slice from a DataFrame.\n",
      "Try using .loc[row_indexer,col_indexer] = value instead\n",
      "\n",
      "See the caveats in the documentation: http://pandas.pydata.org/pandas-docs/stable/indexing.html#indexing-view-versus-copy\n",
      "/Users/matthewwong/anaconda3/lib/python3.7/site-packages/ipykernel_launcher.py:24: SettingWithCopyWarning: \n",
      "A value is trying to be set on a copy of a slice from a DataFrame.\n",
      "Try using .loc[row_indexer,col_indexer] = value instead\n",
      "\n",
      "See the caveats in the documentation: http://pandas.pydata.org/pandas-docs/stable/indexing.html#indexing-view-versus-copy\n"
     ]
    }
   ],
   "source": [
    "# Seperate data for San Juan\n",
    "#Fill all nan values with the previous value. Since this is a time series, it should work as a good estimate.\n",
    "dengue_features.fillna(method='ffill', inplace=True)\n",
    "\n",
    "# Add column that is average of all three temperature measurements\n",
    "dengue_features[\"avg_air_temp_k\"] = (dengue_features[\"reanalysis_air_temp_k\"] + dengue_features[\"reanalysis_avg_temp_k\"] + (dengue_features[\"station_avg_temp_c\"] + 273.15)) / 3\n",
    "\n",
    "#Create a merged data table for exploration\n",
    "merged_data = pd.merge(dengue_features_no_index, dengue_labels, on=['city', 'weekofyear', 'year'], how='outer')\n",
    "\n",
    "#Drop week start date\n",
    "dengue_features.drop('week_start_date', axis=1, inplace=True)\n",
    "\n",
    "# Seperate data for San Juan\n",
    "sj_data = dengue_features.loc['sj']\n",
    "sj_labels = dengue_labels.loc['sj']\n",
    "\n",
    "# Separate data for Iquitos\n",
    "iq_data = dengue_features.loc['iq']\n",
    "iq_labels = dengue_labels.loc['iq']\n",
    "\n",
    "# Add in total cases\n",
    "sj_data['total_cases'] = sj_labels.total_cases\n",
    "iq_data['total_cases'] = iq_labels.total_cases"
   ]
  },
  {
   "cell_type": "markdown",
   "metadata": {},
   "source": [
    "## Exploratory Data Analysis\n",
    "\n",
    "### Week of year vs. Total Cases\n",
    "- These plots show the total cases by each week of the year for each city. In the cases of both city, the number of cases starts out moderatly high at week zero, with a slow decline and steadying out until around week 35-30. At this point the number of total cases begins to increase rapidly.\n",
    "\n",
    "1. What is the distribution of the number of cases of Dengue each week?\n",
    "\n",
    "> The above scatterplot shows a **moderate**, **positive**, **non-linear** association between _week of year_ and the number of _total cases_ for both _cities_.\n",
    "\n",
    "2. How does the number of cases fluctuate over time? Do these temporal relationships persist in both locations?\n",
    "\n",
    "> Both cities see a spike in total cases, that begins around the week 30 mark continues to increase until around week 50 and then declines from there, staying around the same number for weeks 10-20."
   ]
  },
  {
   "cell_type": "code",
   "execution_count": 8,
   "metadata": {},
   "outputs": [
    {
     "data": {
      "text/plain": [
       "<Figure size 432x288 with 0 Axes>"
      ]
     },
     "execution_count": 8,
     "metadata": {},
     "output_type": "execute_result"
    },
    {
     "data": {
      "image/png": "[encoded data removed]",
      "text/plain": [
       "<Figure size 432x288 with 1 Axes>"
      ]
     },
     "metadata": {
      "needs_background": "light"
     },
     "output_type": "display_data"
    },
    {
     "data": {
      "text/plain": [
       "<Figure size 432x288 with 0 Axes>"
      ]
     },
     "metadata": {},
     "output_type": "display_data"
    }
   ],
   "source": [
    "# Scatterplot showing the distribution over times\n",
    "plot = sns.scatterplot(x=\"weekofyear\", y=\"total_cases\", hue=merged_data.city.values, data=merged_data)\n",
    "plot.set(xlabel='Week of Year', ylabel='Total Cases', title=\"Week of Year vs Total Cases\")\n",
    "plt.figure()"
   ]
  },
  {
   "cell_type": "markdown",
   "metadata": {},
   "source": [
    "### Correlation between variables"
   ]
  },
  {
   "cell_type": "code",
   "execution_count": null,
   "metadata": {},
   "outputs": [],
   "source": [
    "sj_correlations = sj_data.corr()\n",
    "iq_correlations = iq_data.corr()"
   ]
  },
  {
   "cell_type": "markdown",
   "metadata": {},
   "source": [
    "The highest correlation in both cities is __reanalysis_specific_humidity__, with __reanalysis_dew_point_temp__ being the second highest correlated. Surprisingly, both cities reported low correlations between rain related variables and total cases, which goes against or initial intuition that more rain would lead to more mosquitioes and thus more cases of dengue. Station avg temp, reanalysis_min_air_temp, avg_air_temp?"
   ]
  },
  {
   "cell_type": "code",
   "execution_count": null,
   "metadata": {},
   "outputs": [],
   "source": [
    "(sj_correlations.total_cases.drop('total_cases').sort_values(ascending=True).plot.barh())"
   ]
  },
  {
   "cell_type": "code",
   "execution_count": null,
   "metadata": {},
   "outputs": [],
   "source": [
    "(iq_correlations.total_cases.drop('total_cases').sort_values(ascending=True).plot.barh())"
   ]
  },
  {
   "cell_type": "markdown",
   "metadata": {},
   "source": [
    "### Specific humidity vs Total Cases\n",
    "When looking at __reanalysis_specific_humidity__ and total cases more closely, we can see a spike in total cases around the 16-18 grams of humidity per kilogram. This spike occurs in both cities, and suggests that these humidity levels might be beneficial to mosqitoe reproduction."
   ]
  },
  {
   "cell_type": "code",
   "execution_count": null,
   "metadata": {},
   "outputs": [],
   "source": [
    "sns.scatterplot(x=\"reanalysis_specific_humidity_g_per_kg\", y=\"total_cases\", data=sj_data).set_title(\"SJ Data\")\n",
    "plt.figure()\n",
    "sns.scatterplot(x=\"reanalysis_specific_humidity_g_per_kg\", y=\"total_cases\", data=iq_data).set_title(\"IQ Data\")\n",
    "plt.figure()"
   ]
  },
  {
   "cell_type": "markdown",
   "metadata": {},
   "source": [
    "### Dew point temperature vs total cases\n",
    "As with humidity, total cases also sees a spike in both cities when dew point temperature is within 294-298 kelvin. Once again this could indicate a relationship between the population size of dengue fever carrying mosqitoes and this temperature range. "
   ]
  },
  {
   "cell_type": "code",
   "execution_count": null,
   "metadata": {},
   "outputs": [],
   "source": [
    "sns.scatterplot(x=\"reanalysis_dew_point_temp_k\", y=\"total_cases\", data=sj_data).set_title(\"SJ Data\")\n",
    "plt.figure()\n",
    "sns.scatterplot(x=\"reanalysis_dew_point_temp_k\", y=\"total_cases\", data=iq_data).set_title(\"IQ Data\")\n",
    "plt.figure()"
   ]
  },
  {
   "cell_type": "markdown",
   "metadata": {},
   "source": [
    "### Station avgerage temperature vs total cases\n",
    "This was another variable that showed correlation between total cases. In the case of San Juan it shows a spike in total cases around the 27-29 range. For Iquitos, the vast majority of the values exist only within the range."
   ]
  },
  {
   "cell_type": "code",
   "execution_count": null,
   "metadata": {},
   "outputs": [],
   "source": [
    "sns.scatterplot(x=\"station_avg_temp_c\", y=\"total_cases\", data=sj_data).set_title(\"SJ Data\")\n",
    "plt.figure()\n",
    "sns.scatterplot(x=\"station_avg_temp_c\", y=\"total_cases\", data=iq_data).set_title(\"IQ Data\")\n",
    "plt.figure()"
   ]
  },
  {
   "cell_type": "markdown",
   "metadata": {},
   "source": [
    "## Statistical Modeling\n",
    "\n"
   ]
  },
  {
   "cell_type": "markdown",
   "metadata": {},
   "source": [
    "We are trying to predict the total number of cases of dengue fever in each city. Knowing this, the variable we are predicting total cases, is a non-negative integer, which indicates are looking to make count predictions. Based on this, we decided to analyze two possible statiscal models: poisson and negative binomial regression. Both of these models excel at making count predictions. The deciding factor for choosing between the two comes from looking at the mean and variance of the data set. A poisson regression assumes that the mean and variance are equal, if the variance is larger than the mean then we should use negative binomial regression."
   ]
  },
  {
   "cell_type": "code",
   "execution_count": null,
   "metadata": {},
   "outputs": [],
   "source": [
    "print(sj_labels.mean())\n",
    "print(sj_labels.var())\n",
    "\n",
    "print(iq_labels.mean())\n",
    "print(iq_labels.var())"
   ]
  },
  {
   "cell_type": "markdown",
   "metadata": {},
   "source": [
    "Looking at the mean and variance we can see that in both cities the variance is much higher than the mean. This means we will use a negative binomial regression. The variables chosen for the model are:\n",
    "    - reanalysis_specific_humidity_g_per_kg\n",
    "    - reanalysis_dew_point_temp_k\n",
    "    - station_avg_temp_c\n",
    "    - reanalysis_min_air_temp_k\n",
    "    - station_min_temp_c \n",
    "These variables were chosen due to their high correlation to total_cases."
   ]
  },
  {
   "cell_type": "markdown",
   "metadata": {},
   "source": [
    "#### Forward Selection\n",
    "First we define our method for method for forward selection. We use this to define our formula based on our selected variables for each city. This method was acquried from a blog mentioned in the slides: [planspace](https://planspace.org/20150423-forward_selection_with_statsmodels/)"
   ]
  },
  {
   "cell_type": "code",
   "execution_count": null,
   "metadata": {},
   "outputs": [],
   "source": [
    "def forward_selected(data, response):\n",
    "    remaining = set(data.columns)\n",
    "    remaining.remove(response)\n",
    "    selected = []\n",
    "    current_score, best_new_score = 0.0, 0.0\n",
    "    while remaining and current_score == best_new_score:\n",
    "        scores_with_candidates = []\n",
    "        for candidate in remaining:\n",
    "            formula = \"{} ~ {} + 1\".format(response,\n",
    "                                           ' + '.join(selected + [candidate]))\n",
    "            score = smf.ols(formula, data).fit().rsquared_adj\n",
    "            scores_with_candidates.append((score, candidate))\n",
    "        scores_with_candidates.sort()\n",
    "        best_new_score, best_candidate = scores_with_candidates.pop()\n",
    "        if current_score < best_new_score:\n",
    "            remaining.remove(best_candidate)\n",
    "            selected.append(best_candidate)\n",
    "            current_score = best_new_score\n",
    "    formula = \"{} ~ {} + 1\".format(response,' + '.join(selected))\n",
    "    return formula"
   ]
  },
  {
   "cell_type": "markdown",
   "metadata": {},
   "source": [
    "#### Format Data\n",
    "Next we define our function for formatting the data and preparing it to be fit to the model. This function first loads in the features data from the csv, then limits it to only the columns we have specified. It then handles all nan values with same forward fill used earlier. It then combines the labels data and finally seperates it by city."
   ]
  },
  {
   "cell_type": "code",
   "execution_count": null,
   "metadata": {},
   "outputs": [],
   "source": [
    "def format_data(data_path, labels_path=None):\n",
    "    # load data and set index to city, year, weekofyear\n",
    "    df = pd.read_csv(data_path, index_col=[0, 1, 2])\n",
    "    features = [\"reanalysis_specific_humidity_g_per_kg\", \"reanalysis_dew_point_temp_k\", \"station_avg_temp_c\", \"reanalysis_min_air_temp_k\", \"station_min_temp_c\"]\n",
    "    df = df[features]\n",
    "    df.fillna(method='ffill', inplace=True)\n",
    "\n",
    "    labels = pd.read_csv(labels_path, index_col=[0, 1, 2])\n",
    "    df = df.join(labels)\n",
    "    \n",
    "    # separate san juan and iquitos\n",
    "    sj = df.loc['sj']\n",
    "    iq = df.loc['iq']\n",
    "    \n",
    "    return sj, iq"
   ]
  },
  {
   "cell_type": "code",
   "execution_count": null,
   "metadata": {},
   "outputs": [],
   "source": [
    "#Load the city data\n",
    "sj_data, iq_data = format_data('data/dengue_features_train.csv', labels_path=\"data/dengue_labels_train.csv\")\n",
    "\n",
    "# Use forward selection to get the formula that we will use to fit the model for SJ\n",
    "formula = forward_selected(sj_data[[\"reanalysis_specific_humidity_g_per_kg\", \"reanalysis_dew_point_temp_k\", \"station_avg_temp_c\", \"reanalysis_min_air_temp_k\", \"station_min_temp_c\", \"total_cases\"]], 'total_cases')\n",
    "\n",
    "#Fit the SJ model\n",
    "sj_model = smf.glm(formula=formula.model.formula, data=sj_data, family=sm.families.NegativeBinomial())\n",
    "sj_model = sj_model.fit()\n",
    "\n",
    "# Use forward selection to get the formula that we will use to fit the model for IQ\n",
    "formula = forward_selected(iq_data[[\"reanalysis_specific_humidity_g_per_kg\", \"reanalysis_dew_point_temp_k\", \"station_avg_temp_c\", \"reanalysis_min_air_temp_k\", \"station_min_temp_c\", \"total_cases\"]], 'total_cases')\n",
    "\n",
    "# Fit the IQ model\n",
    "iq_model = smf.glm(formula=formula.model.formula, data=iq_data, family=sm.families.NegativeBinomial())\n",
    "iq_model = iq_model.fit()\n",
    "\n",
    "# Make predictions and add them to each cities data frame\n",
    "sj_data[\"model_predictions\"] = sj_model.predict()\n",
    "iq_data[\"model_predictions\"] = iq_model.predict()"
   ]
  },
  {
   "cell_type": "markdown",
   "metadata": {},
   "source": [
    "## Interpretation"
   ]
  },
  {
   "cell_type": "markdown",
   "metadata": {},
   "source": [
    "As we can see below the forward selection process includes reanalysis_specific_humidity_g_per_kg and reanalysis_dew_point_temp_k in the final formula to be used in the model for San Juan. The __reanalysis_specific_humidity_g_per_kg__ variable returned a coefficient of _1.1954_ meaning that for a every incrase in humidity_g_per_kg there is a _1.1954_ increase in total cases. Interestingly, __reanalysis_dew_point_temp_k__ returned a coefficient of _-0.9732_. This goes against intuition that warmer temperature means more mosqitoes, as this coefficient suggests that for every 1 kelvin increase in dew point temperature total cases of dengue goes down by _0.9732_. A possible explimination for this the temperate of the tropics and sub-tropics. Due to their location near the equator, they are likely warm for most of the year. This means that a drop in temperature could indicate an increasing in rain and standing water, while still remaining warm enough to be a stable environment for mosqitoes. "
   ]
  },
  {
   "cell_type": "code",
   "execution_count": null,
   "metadata": {},
   "outputs": [],
   "source": [
    "sj_model.summary()"
   ]
  },
  {
   "cell_type": "markdown",
   "metadata": {},
   "source": [
    "The forward selection for Iquitos chose __reanalysis_specific_humidity_g_per_kg__, __reanalysis_dew_point_temp_k__, and __station_min_temp_c__ to use in the formula for the model. Two of the variables __reanalysis_specific_humidity_g_per_kg__ and __reanalysis_dew_point_temp_k__ were also used in the formula for the above model. The coefficients of these variables tell a similiar story as the model above, but with even greater influence with __reanalysis_specific_humidity_g_per_kg__ having a coefficient of _1.8303_ and __reanalysis_dew_point_temp_k__ having a coefficient of _-1.6611_."
   ]
  },
  {
   "cell_type": "code",
   "execution_count": null,
   "metadata": {},
   "outputs": [],
   "source": [
    "iq_model.summary()"
   ]
  },
  {
   "cell_type": "markdown",
   "metadata": {},
   "source": [
    "### Residual Plots\n",
    "Looking at the residula plots we can see that our modals are most accurate when the number of total cases is low. The larger that number of cases are, the greater error has modals have at predicting the counts of deungue fever. This suggests that our models have issues predicting spikes in dengue cases. "
   ]
  },
  {
   "cell_type": "code",
   "execution_count": null,
   "metadata": {},
   "outputs": [],
   "source": [
    "sns.scatterplot(sj_data.total_cases, sj_data.total_cases - sj_data.model_predictions, data=sj_data).set_title(\"SJ Total Cases vs Residuals\")\n",
    "plt.axhline(0)\n",
    "plt.figure()\n",
    "\n",
    "sns.scatterplot(iq_data.total_cases, iq_data.total_cases - iq_data.model_predictions, data=iq_data).set_title(\"IQ Total Cases vs Residuals\")\n",
    "plt.axhline(0)\n",
    "plt.figure()"
   ]
  },
  {
   "cell_type": "markdown",
   "metadata": {},
   "source": [
    "### Create and export submission:"
   ]
  },
  {
   "cell_type": "code",
   "execution_count": null,
   "metadata": {},
   "outputs": [],
   "source": [
    "sj_test, iq_test = preprocess_data('data/dengue_features_test.csv')\n",
    "\n",
    "sj_predictions = sj_best_model.predict(sj_test).astype(int)\n",
    "iq_predictions = iq_best_model.predict(iq_test).astype(int)\n",
    "\n",
    "submission = pd.read_csv(\"data/submission_format.csv\",\n",
    "                         index_col=[0, 1, 2])\n",
    "\n",
    "submission.total_cases = np.concatenate([sj_predictions, iq_predictions])\n",
    "submission.to_csv(\"data/submission.csv\")"
   ]
  }
 ],
 "metadata": {
  "kernelspec": {
   "display_name": "Python 3",
   "language": "python",
   "name": "python3"
  },
  "language_info": {
   "codemirror_mode": {
    "name": "ipython",
    "version": 3
   },
   "file_extension": ".py",
   "mimetype": "text/x-python",
   "name": "python",
   "nbconvert_exporter": "python",
   "pygments_lexer": "ipython3",
   "version": "3.7.0"
  }
 },
 "nbformat": 4,
 "nbformat_minor": 2
}
