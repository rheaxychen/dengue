{
 "cells": [
  {
   "cell_type": "markdown",
   "metadata": {},
   "source": [
    "# Modeling Dengue\n",
    "This is an assignment for INFO 370 Core Method in Data Science (Autumn 2018) at University of Washington. The task for this project is to measure the **strength of association** between different environmental variables and the number of cases of Dengue. This Jupyter Notebook is a **polished report** of our analysis on Dengue (source of dataset: [link](https://www.drivendata.org/competitions/44/dengai-predicting-disease-spread)).\n",
    "\n",
    "\n",
    "## Problem Overview\n",
    "   Dengue fever is the leading cause of illness and death in the tropics and subtropics, regions which contain a little more than one-third of the world population. Mild cases of Dengue fever can cause high fever, rash and muscle, and joint pain, while more severe cases can lead to severe bleeding, a sudden drop in blood pressure and death. Dengue is transmitted to people by mosquitoes, and because of this relationship, the disease’s spread spikes yearly when rainfall is optimal for breeding. In fact, this relationship between the disease and the mosquito breeding period is so entwined that, every breeding season Dengue is classified as an epidemic within the tropics and sub-tropics. This relationship between the disease and mosquitoes also means that environmental factors that promote mosquito life will also work as indicators for the spread of Dengue. Limiting exposure to mosquitos in at-risk areas is the only known prevention method for the disease at the moment as a vaccine has yet to be developed. This coupled with the fact that the disease is rapidly spreading, going from having cases in 9 countries in 1970 to over 100 countries by 2015, makes it a high priority for many world health organizations. In order to perform our predictions, we were given access to data from a variety of U.S. Federal Government agencies. \n",
    "   \n",
    "   Citations:\n",
    "   1. Centers for Disease Control and Prevention. (n.d.). Retrieved from [link](https://www.cdc.gov/).\n",
    "   2. Here's the ideal temp for mosquito-borne diseases. (2017, May 05). Retrieved from [link](https://www.futurity.org/climate-change-mosquito-diseases-1420452/).\n",
    "   3. \n",
    "   "
   ]
  },
  {
   "cell_type": "markdown",
   "metadata": {},
   "source": [
    "### Pertinent Variables \n",
    "Because dengue is carried by mosquitoes, it’s transmission dynamics are related to climate variables such as temperature and precipitation. To predict the number of dengue fever cases (the `total_cases` label for each `(city, year, weekofyear)` ) based on the provided datasets, it’s important to look at these following information ([source](https://www.drivendata.org/competitions/44/dengai-predicting-disease-spread/page/82/#features_list)):\n",
    "\n",
    "#### City and Date Indicators\n",
    "- There are data for _two cities_, San Juan (`sj`) and Iquitos (`iq`) in the `city` column. \n",
    "- The date indicator is provided on a `(year, weekofyear, week_start_date)` timescale, which is given in yyyy-mm-dd format.\n",
    "\n",
    "#### NOAA's GHCN daily climate data weather station measurements\n",
    "- `station_avg_temp_c` – _Average_ temperature\n",
    "- `station_precip_mm` – _Total_ precipitation\n",
    "\n",
    "#### PERSIANN satellite precipitation measurements (0.25x0.25 degree scale)\n",
    "- `precipitation_amt_mm` – _Total_ precipitation\n",
    "\n",
    "#### NOAA's NCEP Climate Forecast System Reanalysis measurements (0.5x0.5 degree scale)\n",
    "- `reanalysis_sat_precip_amt_mm` – _Total_ precipitation\n",
    "- `reanalysis_precip_amt_kg_per_m2` – _Total_ precipitation **(? same as ↾)**\n",
    "- `reanalysis_dew_point_temp_k` – _Mean_ dew point temperature\n",
    "- `reanalysis_air_temp_k` – _Mean_ air temperature\n",
    "- `reanalysis_avg_temp_k` – _Average_ air temperature **(? same as ↾)**\n",
    "- `reanalysis_relative_humidity_percent` – _Mean_ relative humidity\n",
    "- `reanalysis_specific_humidity_g_per_kg` – _Mean_ specific humidity\n"
   ]
  },
  {
   "cell_type": "code",
   "execution_count": null,
   "metadata": {},
   "outputs": [],
   "source": []
  }
 ],
 "metadata": {
  "kernelspec": {
   "display_name": "Python 3",
   "language": "python",
   "name": "python3"
  },
  "language_info": {
   "codemirror_mode": {
    "name": "ipython",
    "version": 3
   },
   "file_extension": ".py",
   "mimetype": "text/x-python",
   "name": "python",
   "nbconvert_exporter": "python",
   "pygments_lexer": "ipython3",
   "version": "3.7.0"
  }
 },
 "nbformat": 4,
 "nbformat_minor": 2
}
